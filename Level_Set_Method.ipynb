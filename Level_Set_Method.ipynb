{
 "cells": [
  {
   "cell_type": "markdown",
   "metadata": {
    "id": "W9XCAd8q_vL0"
   },
   "source": [
    "#LEVEL SET METHOD "
   ]
  },
  {
   "cell_type": "code",
   "execution_count": null,
   "metadata": {
    "id": "C1JbMuwr_upe"
   },
   "outputs": [],
   "source": [
    "import numpy as np\n",
    "from PIL import Image, ImageOps, ImageFilter, ImageDraw\n",
    "from sklearn.metrics import mean_squared_error\n",
    "import glob\n",
    "import time"
   ]
  },
  {
   "cell_type": "code",
   "execution_count": null,
   "metadata": {
    "id": "yYQfkg9MglJd"
   },
   "outputs": [],
   "source": [
    "base_folder = 'Samples'\n",
    "samples = sorted(glob.glob(base_folder + '/*'))"
   ]
  },
  {
   "cell_type": "code",
   "execution_count": null,
   "metadata": {
    "id": "n4EC0n_ndxxh"
   },
   "outputs": [],
   "source": [
    "def default_phi(x, mode = 1, width = 5):\n",
    "    # Initialize surface phi at the border ( width px from the border) of the image\n",
    "    # or at the center of the image as a width by width square\n",
    "    # i.e. 1 outside the curve, and -1 inside the curve\n",
    "    if mode == 1:\n",
    "        phi = -1*np.ones([x.size[1],x.size[0]])\n",
    "        phi[int(x.size[1]/2)-width:int(x.size[1]/2)+width, int(x.size[0]/2)-width:int(x.size[0]/2)+width] = 1\n",
    "    elif mode == 2:\n",
    "        phi = 1.*np.ones([x.size[1],x.size[0]])\n",
    "        phi[5:x.size[1]-width, width:x.size[0]-width] = -1.\n",
    "    return phi  \n",
    "\n",
    "#Level set Boundary evolution\n",
    "def lss(img, dt = 1, freq = 20, rad = 3):\n",
    "    img = img.convert('L')\n",
    "    img = img - np.mean(img)  \n",
    "    img = Image.fromarray(img).convert('L')\n",
    "    u = default_phi(img, mode = 2)\n",
    "    dx, dy = np.gradient(img.filter(ImageFilter.GaussianBlur(radius = rad)))\n",
    "    Du = np.sqrt(dx**2 + dy**2)\n",
    "    v = 1./(1. + Du)\n",
    "    data = []\n",
    "    data.append(Du)\n",
    "    data.append(u)\n",
    "    u_old = u\n",
    "    niter = 0\n",
    "    MSE_OLD = 1e+03\n",
    "    change = 1e+03\n",
    "    while change > 1e-15:\n",
    "        niter += 1\n",
    "        dx, dy = np.gradient(u)\n",
    "        Du = np.sqrt(dx**2 + dy**2)\n",
    "        u += dt * v * Du \n",
    "        u = np.where(u<0,-1.,1.)\n",
    "        MSE = mean_squared_error(u_old, u)\n",
    "        u_old = u\n",
    "        change = abs(MSE - MSE_OLD)\n",
    "        MSE_OLD = MSE\n",
    "        if niter%freq == 0:\n",
    "           data.append(u)     \n",
    "    u = np.where(u<0,1.,0.)\n",
    "    data.append(u)\n",
    "    return data, niter "
   ]
  },
  {
   "cell_type": "code",
   "execution_count": null,
   "metadata": {
    "id": "n-MoZ-fLhFkP"
   },
   "outputs": [],
   "source": [
    "#Plots the level set on the original image\n",
    "def plot_boundary(img, segment):\n",
    "  rad = 3\n",
    "  img = img.convert(\"RGB\")\n",
    "  edge = Image.fromarray(segment).convert(\"L\").filter(ImageFilter.GaussianBlur(radius = rad)).filter(ImageFilter.FIND_EDGES)\n",
    "  for x in range(rad,img.size[0]-rad):\n",
    "      for y in range(rad,img.size[1]-rad):\n",
    "        if edge.getpixel((x,y)) != 0:\n",
    "            for i in [-1,0,1]:\n",
    "                for j in [-1,0,1]:\n",
    "                    img.putpixel( (x+i,y+j), (255,0,255) )\n",
    "        \n",
    "  return img\n",
    "\n",
    "#Saves the boundary evolution as a gif file\n",
    "def evolution_gif(img, data, file_name = 'dummy.gif', duration = 400, loop = 2):\n",
    "  images = []\n",
    "  for i in range(2,len(data)):\n",
    "    tmp =plot_boundary(img, data[i])  \n",
    "    images.append(tmp)\n",
    "\n",
    "  images[0].save(file_name, save_all=True, append_images=images[1:], optimize=False, duration=duration, loop=loop)"
   ]
  },
  {
   "cell_type": "code",
   "execution_count": null,
   "metadata": {
    "colab": {
     "base_uri": "https://localhost:8080/",
     "height": 529
    },
    "id": "cNfcJkDfeQvh",
    "outputId": "906539f9-cf7b-4f23-aa8e-762080072c60"
   },
   "outputs": [],
   "source": [
    "img = Image.open(samples[2])\n",
    "display(img)"
   ]
  },
  {
   "cell_type": "code",
   "execution_count": null,
   "metadata": {
    "id": "u28aO32Sgd05"
   },
   "outputs": [],
   "source": [
    "#Perform level set boundary evolution on the MRI image\n",
    "data, niter = lss(img,dt = 1, freq = 10)"
   ]
  },
  {
   "cell_type": "code",
   "execution_count": null,
   "metadata": {
    "colab": {
     "base_uri": "https://localhost:8080/",
     "height": 529
    },
    "id": "ITmRcUFTJ70g",
    "outputId": "39e6caaf-7435-469d-c887-58d584e527bf"
   },
   "outputs": [],
   "source": [
    "#Show the converged boundary as a binary mask image\n",
    "display(ImageOps.autocontrast(Image.fromarray(data[-1]).convert('L')))"
   ]
  },
  {
   "cell_type": "code",
   "execution_count": null,
   "metadata": {},
   "outputs": [],
   "source": [
    "#Show the converged boundary on the original MRI image\n",
    "display(plot_boundary(img, data[-1]))"
   ]
  },
  {
   "cell_type": "code",
   "execution_count": null,
   "metadata": {
    "id": "vXZT7U4jIuZy"
   },
   "outputs": [],
   "source": [
    "#Create a gif of the boundary evolution in time\n",
    "timestr = time.strftime(\"%Y%m%d-%H%M%S\") \n",
    "evolution_gif(img, data, file_name = timestr+'.gif', duration=800, loop=2)"
   ]
  },
  {
   "cell_type": "code",
   "execution_count": null,
   "metadata": {},
   "outputs": [],
   "source": []
  }
 ],
 "metadata": {
  "colab": {
   "collapsed_sections": [],
   "name": "Level Set Method.ipynb",
   "provenance": []
  },
  "kernelspec": {
   "display_name": "Python 3 (ipykernel)",
   "language": "python",
   "name": "python3"
  },
  "language_info": {
   "codemirror_mode": {
    "name": "ipython",
    "version": 3
   },
   "file_extension": ".py",
   "mimetype": "text/x-python",
   "name": "python",
   "nbconvert_exporter": "python",
   "pygments_lexer": "ipython3",
   "version": "3.9.7"
  }
 },
 "nbformat": 4,
 "nbformat_minor": 1
}
